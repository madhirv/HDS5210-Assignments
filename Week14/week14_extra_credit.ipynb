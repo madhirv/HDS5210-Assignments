{
  "cells": [
    {
      "cell_type": "markdown",
      "metadata": {
        "id": "xDonxbCmCnP_"
      },
      "source": [
        "# Week 14 Extra Credit - How will ChatGPT do on your final project idea?\n",
        "\n",
        "This extra credit assignment is entirely optional.  You do not need to do it.\n",
        "\n",
        "If you would like the opportunity to earn up to 5 extra credit points, complete this assignment and submit it via GitHub as normal before Monday, November 27 at 11:59 PM CST.  No late submissions will be accepted.  The file must be saved to your week13 folder in GitHub."
      ]
    },
    {
      "cell_type": "markdown",
      "metadata": {
        "id": "oRIXTLLVCnQA"
      },
      "source": [
        "## Part 1: Have a conversation with ChatGPT\n",
        "\n",
        "I want you to have a conversation with ChatGPT about your final project idea.  Find out what it thinks about your idea and if it has any data sources (URLs for specific sites) that could be helpful.  Below, either include copy/paste the chat history from your conversation or include a link to the shared chat.  (ChatGPT has an [option to share a link to a specific conversation](https://help.openai.com/en/articles/7925741-chatgpt-shared-links-faq).  It's the up-arrow icon in the upper-right corner of your chat window.)\n",
        "\n",
        "Take this conversationw with ChatGPT as far as you want, but at least ask three or four follow-up questions to refine the information you're getting back.\n",
        "\n",
        "If it starts giving you links to information, don't assume they're going to work. Remember that ChatGPT isn't perfect. So, follow the links and make sure there's information there that matches what ChatGPT says you will find."
      ]
    },
    {
      "cell_type": "markdown",
      "metadata": {
        "id": "JsBB-LK1CnQA"
      },
      "source": [
        "**RESPONSE**\n",
        "\n",
        "https://chatgpt.com/share/674d1fdc-2224-8003-8898-c0c3bdbbd362"
      ]
    },
    {
      "cell_type": "markdown",
      "metadata": {
        "id": "3K_PUNp9CnQA"
      },
      "source": [
        "### Part 2: Your reflection\n",
        "\n",
        "Below, tell me what you think ChatGPT did well or not well in your conversation.  Was it good at finding data that you needed?  Was it good at finding actual links that worked?  Did its responses make sense to you?  What did it do well / not well?\n",
        "\n",
        "Your response below should be several sentences.  If you don't have enough feedback, expand your conversation with ChatGPT.  Ask it refine your project idea or start writing code for you.  See what it can do."
      ]
    },
    {
      "cell_type": "markdown",
      "metadata": {
        "id": "FFs30MxTCnQA"
      },
      "source": [
        "**RESPONSE**\n",
        "\n",
        "ChatGPT did good in offering directions and explaining my project plan. import dataframed.It was useful to decompose the problems into steps, to mention relevant visualization types, and to provide meaningful code fragments. The answers were cogent and logical, which proved helpful and helped me comprehend the best approach when utilizing datasets, when visualizing insights and constructing questions to enhance my examination. It also suggested practical recommendations on how to maintain data quality and how to avoid problems with method redundancy or gaps.\n",
        "\n",
        "Nevertheless, a few issues were encountered: ChatGPT lacked the ability to lookup raw datasets or validate other online sources since it only acted as a knowledge-assisted mechanical turk. While it helped me lay a good ground work on working with data and visualizations, I had to make sure that the datasets I was sourcing for were relevant to my project. Moreover, it sometimes got confused about my intention behind my questions and I had to repeat myself.\n",
        "\n",
        "In general, both in coding and in project structuring, I found ChatGPT to be helpful but it left the tasks of data set acquisition and validation to me. It could be made better by for instance extending the amounts of specific online sources or assisting to check links. Still, I found its ability to elaborate ideas and quickly create code helpful enough to become my primary assistant in the project."
      ]
    },
    {
      "cell_type": "markdown",
      "metadata": {
        "id": "efOCcw85CnQA"
      },
      "source": [
        "### Submitting\n",
        "\n",
        "Submit this as normal to GitHub with the name `week14/week14_extra_credit.ipynb`"
      ]
    },
    {
      "cell_type": "markdown",
      "metadata": {
        "id": "_OYCtPm6CnQA"
      },
      "source": []
    }
  ],
  "metadata": {
    "language_info": {
      "name": "python"
    },
    "colab": {
      "provenance": []
    }
  },
  "nbformat": 4,
  "nbformat_minor": 0
}