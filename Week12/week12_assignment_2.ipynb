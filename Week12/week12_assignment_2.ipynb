{
  "cells": [
    {
      "cell_type": "markdown",
      "metadata": {
        "id": "view-in-github",
        "colab_type": "text"
      },
      "source": [
        "<a href=\"https://colab.research.google.com/github/madhirv/HDS5210-Assignments/blob/main/week12_assignment_2.ipynb\" target=\"_parent\"><img src=\"https://colab.research.google.com/assets/colab-badge.svg\" alt=\"Open In Colab\"/></a>"
      ]
    },
    {
      "cell_type": "markdown",
      "metadata": {
        "id": "sUnhP2F5pitb"
      },
      "source": [
        "# Week 11 Assignment\n",
        "\n",
        "\n",
        "Please do the programming exercise and verify that your code works using the tests, then think about your final project and fill out the questions in the second part.\n",
        "\n",
        "---\n",
        "---"
      ]
    },
    {
      "cell_type": "markdown",
      "metadata": {
        "id": "abykddEKpitc"
      },
      "source": [
        "### 47.1: Filtering and summarizing data\n",
        "\n",
        "For this work, you'll find a data file in `https://hds5210-data.s3.amazonaws.com/complications_all.csv`.\n",
        "\n",
        "Read in the data file and create a variable called `mo_hospitals` that contains a data frame from the `complications_all.csv` file, filtered down to only contain those hospitals from the state of Missouri (MO).\n",
        "\n",
        "Then aggregate that data by hospital into a variable named `mo_summary`.  There are some key fields that we want to summarize:\n",
        "* We want to know the earliest date that each hospital was participating in any program\n",
        "* We want to know the latest date that each hospital stopped participating in any program\n",
        "* We want to know the total number of patients in the denominators of these programs\n",
        "\n",
        "Some things to note:\n",
        "* You will need to convert the `Start Date` and `End Date` to actual datetime fields\n",
        "* You will need to clean up and convert the `Denominator` field to just be numeric - the rule that you should use it to simply remove any records where the `Denominator` is `'Not Available'`\n",
        "\n",
        "\n",
        "The final result of this step should be a new data frame called `mo_summary` that contains one row for each hospital and contains the min start date, max end date, and total denominator.  Use the names `start_date`, `end_date`, and `number` for those columns in `mo_summary`.\n",
        "\n",
        "\n",
        "You do not need to create your code in the form of a function, just make sure your variable names match what I've described above so the tests work."
      ]
    },
    {
      "cell_type": "code",
      "execution_count": null,
      "metadata": {
        "id": "ckJlNxcCpitd"
      },
      "outputs": [],
      "source": [
        "import pandas as pd\n",
        "# This is just to show you the name to use for the variable you need to create for this step to pass.\n",
        "all_hospitals = pd.read_csv('https://hds5210-data.s3.amazonaws.com/complications_all.csv')\n"
      ]
    },
    {
      "cell_type": "code",
      "execution_count": null,
      "metadata": {
        "colab": {
          "base_uri": "https://localhost:8080/"
        },
        "id": "xaP1D4Plpitd",
        "outputId": "87bd301a-6b42-460b-9fbc-7d000b89d6aa"
      },
      "outputs": [
        {
          "output_type": "stream",
          "name": "stdout",
          "text": [
            "Data for BARNES JEWISH HOSPITAL:\n",
            "start_date    2015-04-01 00:00:00\n",
            "end_date      2018-06-30 00:00:00\n",
            "number                     131313\n",
            "Name: BARNES JEWISH HOSPITAL, dtype: object\n",
            "Data for BOONE HOSPITAL CENTER:\n",
            "start_date    2015-04-01 00:00:00\n",
            "end_date      2018-06-30 00:00:00\n",
            "number                      63099\n",
            "Name: BOONE HOSPITAL CENTER, dtype: object\n"
          ]
        }
      ],
      "source": [
        "# We are selecting rows where the 'State' column is equal to 'MO' (Missouri).\n",
        "mo_hospitals = all_hospitals[all_hospitals['State'] == 'MO'].copy()\n",
        "\n",
        "# Cleaning and preparing the data,removing invalid rows.\n",
        "\n",
        "# We have to remove rows where the 'Denominator' column has the value 'Not Available'\n",
        "mo_hospitals = mo_hospitals[mo_hospitals['Denominator'] != 'Not Available']\n",
        "\n",
        "#Converting 'Denominator' to 'numeric'\n",
        "mo_hospitals['Denominator'] = pd.to_numeric(mo_hospitals['Denominator'],)\n",
        "\n",
        "# Changing the 'Start Date' and 'End Date' columns to proper datetime format.\n",
        "mo_hospitals['Start Date'] = pd.to_datetime(mo_hospitals['Start Date'],)\n",
        "mo_hospitals['End Date'] = pd.to_datetime(mo_hospitals['End Date'],)\n",
        "\n",
        "# Grouping and summarizing the data\n",
        "mo_summary = mo_hospitals.groupby('Facility Name').agg(\n",
        "    start_date=('Start Date', 'min'),\n",
        "    end_date=('End Date', 'max'),\n",
        "    number=('Denominator', 'sum')\n",
        ")\n",
        "# Accessing the data for BARNES JEWISH HOSPITAL using its index\n",
        "#.loc retrieves the row where the index matches 'BARNES JEWISH HOSPITAL'\n",
        "print(\"Data for BARNES JEWISH HOSPITAL:\")\n",
        "print(mo_summary.loc['BARNES JEWISH HOSPITAL'])\n",
        "\n",
        "# Accessing the data for BOONE HOSPITAL CENTER using its index\n",
        "#.loc retrieves the row where the index matches 'BOONE HOSPITAL CENTER'\n",
        "print(\"Data for BOONE HOSPITAL CENTER:\")\n",
        "print(mo_summary.loc['BOONE HOSPITAL CENTER'])\n"
      ]
    },
    {
      "cell_type": "code",
      "execution_count": null,
      "metadata": {
        "id": "lHLzrC2_pitd"
      },
      "outputs": [],
      "source": [
        "assert(mo_summary['number'].sum() == 1766908)\n",
        "assert(mo_summary['start_date'].min() == pd.Timestamp(2015,4,1))\n",
        "assert(mo_summary['end_date'].max() == pd.Timestamp(2018,6,30))\n",
        "assert(mo_summary.shape == (108,3))\n",
        "assert(mo_summary.loc['BARNES JEWISH HOSPITAL'].number == 131313)\n",
        "assert(mo_summary.loc['BOONE HOSPITAL CENTER'].number == 63099)"
      ]
    },
    {
      "cell_type": "markdown",
      "metadata": {
        "id": "KZdiZNoYpitd"
      },
      "source": [
        "---\n",
        "\n",
        "### 47.2 Planning your final project\n",
        "\n",
        "You should be thinking about the things we've been learning and how you can apply them to your final project.  Use the rubric to help guid your thinking and then answer the questions below.  This is meant as a guide to help you think through what you will do."
      ]
    },
    {
      "cell_type": "markdown",
      "metadata": {
        "id": "6rwxhg1gpitd"
      },
      "source": [
        "#### A) Data Access\n",
        "\n",
        "Your project should include data from at least three distinct types of sources.  For example: AWS S3, Relational Databases, Internet, Web Services, local files.  List what data sources you're planning to use."
      ]
    },
    {
      "cell_type": "markdown",
      "metadata": {
        "id": "kUsZa5g2pite"
      },
      "source": [
        "My project will use data from three distinct sources to provide a comprehensive view of mental health sentiment. First, I will use the Twitter API to collect real-time tweets related to mental health, focusing on hashtags like #MentalHealth and #Depression. Second, I will utilize publicly available CSV datasets, such as the “Mental Health in Tech Survey” from Kaggle, to analyze historical trends and demographics. Lastly, I plan to gather data from various forums  through web scraping to gain qualitative insights into personal experiences and challenges people face.\n",
        "\n",
        "Put your answer here\n"
      ]
    },
    {
      "cell_type": "markdown",
      "metadata": {
        "id": "74UNSJPTpite"
      },
      "source": [
        "#### B. Data Formats\n",
        "\n",
        "Your project should include data that comes in different file formats.  For example: HL7, EDI, HTML, CSV, Excel, JSON, XML.  List what data formats you're planning to use."
      ]
    },
    {
      "cell_type": "markdown",
      "metadata": {
        "id": "RZFZKA95pite"
      },
      "source": [
        "I will include data in three formats: JSON, CSV, and HTML. JSON data will come from the Twitter API, containing tweet text, timestamps, and user details. Historical datasets, like the Kaggle survey, will be in CSV format, making them easy to process and analyze. HTML data will come from web scraping Reddit threads, allowing me to extract text and discussion topics to understand recurring mental health themes.\n",
        "\n",
        "Put your answer here\n"
      ]
    },
    {
      "cell_type": "markdown",
      "metadata": {
        "id": "jMG7qFf8pite"
      },
      "source": [
        "#### C. Objective\n",
        "\n",
        "What purpose would your project serve in a real work setting?  Take a couple of paragraphs to write down why this is an interesting product."
      ]
    },
    {
      "cell_type": "markdown",
      "metadata": {
        "id": "4wxk_aavpite"
      },
      "source": [
        "**Double-click to enter your answer**\n",
        "\n",
        "Put your answer here\n"
      ]
    },
    {
      "cell_type": "markdown",
      "metadata": {
        "id": "_yaPhqVzpite"
      },
      "source": [
        "This project aims to analyze public sentiment about mental health and present actionable insights through a sentiment analysis dashboard. By tracking trends in positive, negative, and neutral sentiment, I hope to identify changes in public perception and highlight commonly discussed issues like anxiety, depression, and stigma. The dashboard will combine real-time and historical data to help health organizations and policymakers create better awareness campaigns, allocate resources effectively, and reduce mental health stigma. Ultimately, this project will contribute to a better understanding of societal challenges surrounding mental health and support informed decision-making.\n",
        "\n",
        "---\n",
        "\n",
        "\n",
        "\n",
        "## Submit your work via GitHub as normal\n"
      ]
    }
  ],
  "metadata": {
    "kernelspec": {
      "display_name": "Python 3",
      "language": "python",
      "name": "python3"
    },
    "language_info": {
      "codemirror_mode": {
        "name": "ipython",
        "version": 3
      },
      "file_extension": ".py",
      "mimetype": "text/x-python",
      "name": "python",
      "nbconvert_exporter": "python",
      "pygments_lexer": "ipython3",
      "version": "3.9.16"
    },
    "colab": {
      "provenance": [],
      "include_colab_link": true
    }
  },
  "nbformat": 4,
  "nbformat_minor": 0
}
